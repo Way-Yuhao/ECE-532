{
 "cells": [
  {
   "cell_type": "code",
   "execution_count": 5,
   "metadata": {},
   "outputs": [
    {
     "name": "stdout",
     "output_type": "stream",
     "text": [
      "[[ 0.30452071]\n",
      " [ 0.10732073]\n",
      " [ 0.23234071]\n",
      " [ 0.5154997 ]\n",
      " [-0.26038146]\n",
      " [ 0.27146227]\n",
      " [ 0.12814798]\n",
      " [ 0.03551393]\n",
      " [-0.02676498]\n",
      " [-0.49964294]]\n"
     ]
    }
   ],
   "source": [
    "import numpy as np\n",
    "\n",
    "n = 50 # number of training examples\n",
    "d = 10 # number of features per sample\n",
    "X = np.random.randn(50,10)\n",
    "w_true = np.random.rand(10,1) - 0.5\n",
    "y = np.sign(X@w_true)\n",
    "def myfunc(w):\n",
    "    f = np.linalg.norm(y - X@w )**2 + 0.1*np.linalg.norm(w)**2\n",
    "    return f\n",
    "\n",
    "def grad_myfunc(w):\n",
    "    grad_f = 2*X.T@X@w - 2*X.T@y + 2*0.1*w\n",
    "    return grad_f\n",
    "\n",
    "\n",
    "max_iterations = 1000\n",
    "eps = 1e-6\n",
    "tau = 0.001\n",
    "w = np.zeros((10,1))\n",
    "\n",
    "for i in range(max_iterations):\n",
    "    w_new = w - tau * grad_myfunc(w)\n",
    "    if (np.linalg.norm(w_new - w) < eps):\n",
    "        break\n",
    "    w =  w_new\n",
    "print(w)"
   ]
  },
  {
   "cell_type": "code",
   "execution_count": 66,
   "metadata": {},
   "outputs": [
    {
     "name": "stdout",
     "output_type": "stream",
     "text": [
      "[[  1.60529765]\n",
      " [ 25.7179328 ]\n",
      " [  4.47800125]\n",
      " [ 18.41438658]\n",
      " [ -1.78540627]\n",
      " [-11.47626207]\n",
      " [-18.84841594]\n",
      " [  0.3076986 ]\n",
      " [ 20.35664694]\n",
      " [-14.34358284]]\n"
     ]
    }
   ],
   "source": [
    "import numpy as np\n",
    "\n",
    "n = 50 # number of training examples\n",
    "d = 10 # number of features per sample\n",
    "X = np.random.randn(50,10)\n",
    "w_true = np.random.rand(10,1)-0.5\n",
    "y = np.sign(X@w_true)\n",
    "\n",
    "def grad_myfunc(w):\n",
    "    grad_f = np.zeros((10, 1))\n",
    "    for i in range(n):\n",
    "        if (y[i] * X[[i], :] @ w < 1):\n",
    "            grad_f += -y[i] * (X[[i], :]).T\n",
    "        else:\n",
    "            grad_f += 0\n",
    "    return grad_f\n",
    "\n",
    "w = np.zeros((10,1))\n",
    "print(grad_myfunc(w))"
   ]
  },
  {
   "cell_type": "code",
   "execution_count": 51,
   "metadata": {},
   "outputs": [
    {
     "name": "stdout",
     "output_type": "stream",
     "text": [
      "False\n"
     ]
    }
   ],
   "source": [
    "print( 1 < 0)"
   ]
  },
  {
   "cell_type": "code",
   "execution_count": null,
   "metadata": {},
   "outputs": [],
   "source": [
    "dbfeca"
   ]
  },
  {
   "cell_type": "code",
   "execution_count": null,
   "metadata": {},
   "outputs": [],
   "source": []
  }
 ],
 "metadata": {
  "kernelspec": {
   "display_name": "Python 3",
   "language": "python",
   "name": "python3"
  },
  "language_info": {
   "codemirror_mode": {
    "name": "ipython",
    "version": 3
   },
   "file_extension": ".py",
   "mimetype": "text/x-python",
   "name": "python",
   "nbconvert_exporter": "python",
   "pygments_lexer": "ipython3",
   "version": "3.7.4"
  }
 },
 "nbformat": 4,
 "nbformat_minor": 2
}
