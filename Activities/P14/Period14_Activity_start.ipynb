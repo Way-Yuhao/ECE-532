{
 "cells": [
  {
   "cell_type": "code",
   "execution_count": 5,
   "metadata": {},
   "outputs": [],
   "source": [
    "import numpy as np\n",
    "import matplotlib.pyplot as plt \n",
    "from sklearn.preprocessing import Normalizer"
   ]
  },
  {
   "cell_type": "code",
   "execution_count": 9,
   "metadata": {},
   "outputs": [
    {
     "name": "stdout",
     "output_type": "stream",
     "text": [
      "Unweighted adjacency matrix\n",
      "[[0 1 0 0 0 0 0 1]\n",
      " [1 0 1 0 0 0 0 0]\n",
      " [1 1 0 1 1 0 0 0]\n",
      " [0 0 1 0 1 0 0 0]\n",
      " [0 0 0 1 0 1 0 0]\n",
      " [0 0 0 0 1 0 1 0]\n",
      " [0 0 0 0 0 1 0 1]\n",
      " [1 0 0 0 0 0 1 0]]\n",
      "Weighted adjacency matrix\n",
      "[[0.         0.5        0.         0.         0.         0.\n",
      "  0.         0.5       ]\n",
      " [0.33333333 0.         0.5        0.         0.         0.\n",
      "  0.         0.        ]\n",
      " [0.33333333 0.5        0.         0.5        0.33333333 0.\n",
      "  0.         0.        ]\n",
      " [0.         0.         0.5        0.         0.33333333 0.\n",
      "  0.         0.        ]\n",
      " [0.         0.         0.         0.5        0.         0.5\n",
      "  0.         0.        ]\n",
      " [0.         0.         0.         0.         0.33333333 0.\n",
      "  0.5        0.        ]\n",
      " [0.         0.         0.         0.         0.         0.5\n",
      "  0.         0.5       ]\n",
      " [0.33333333 0.         0.         0.         0.         0.\n",
      "  0.5        0.        ]]\n"
     ]
    }
   ],
   "source": [
    "# Circle topology\n",
    "\n",
    "# Unweighted adjacency matrix\n",
    "Atilde = np.zeros((8,8), dtype=int)\n",
    "Atilde = np.array([\n",
    "    [0, 1, 0, 0, 0, 0, 0, 1], \n",
    "    [1, 0, 1, 0, 0, 0, 0, 0], \n",
    "    [1, 1, 0, 1, 1, 0, 0, 0], \n",
    "    [0, 0, 1, 0, 1, 0, 0, 0], \n",
    "    [0, 0, 0, 1, 0, 1, 0, 0], \n",
    "    [0, 0, 0, 0, 1, 0, 1, 0],\n",
    "    [0, 0, 0, 0, 0, 1, 0, 1],\n",
    "    [1, 0, 0, 0, 0, 0, 1, 0],\n",
    "])\n",
    "print('Unweighted adjacency matrix')\n",
    "print(Atilde)\n",
    "\n",
    "# find weighted adjacency matrix\n",
    "print('Weighted adjacency matrix')\n",
    "A = Atilde / np.sum(Atilde, 0)\n",
    "print(A)"
   ]
  },
  {
   "cell_type": "code",
   "execution_count": 15,
   "metadata": {},
   "outputs": [
    {
     "name": "stdout",
     "output_type": "stream",
     "text": [
      "b0 =  [[0.125]\n",
      " [0.125]\n",
      " [0.125]\n",
      " [0.125]\n",
      " [0.125]\n",
      " [0.125]\n",
      " [0.125]\n",
      " [0.125]]\n",
      "b1 =  [[0.125     ]\n",
      " [0.10416667]\n",
      " [0.20833333]\n",
      " [0.10416667]\n",
      " [0.125     ]\n",
      " [0.10416667]\n",
      " [0.125     ]\n",
      " [0.10416667]]\n",
      "1000 iterations\n",
      "b =  [[0.11538462]\n",
      " [0.15384615]\n",
      " [0.23076923]\n",
      " [0.15384615]\n",
      " [0.11538462]\n",
      " [0.07692308]\n",
      " [0.07692308]\n",
      " [0.07692308]]\n"
     ]
    }
   ],
   "source": [
    "# Power method\n",
    "\n",
    "b0 = 0.125*np.ones((8,1))\n",
    "print('b0 = ', b0)\n",
    "\n",
    "b1 = A @ b0\n",
    "print('b1 = ', b1)\n",
    "\n",
    "b = b0.copy()\n",
    "for k in range(1000):\n",
    "    b = A @ b\n",
    "    \n",
    "print('1000 iterations')\n",
    "print('b = ',b)\n"
   ]
  },
  {
   "cell_type": "markdown",
   "metadata": {},
   "source": [
    "Node 3 is most important, because after 1000 iterations, node 3 has the highest probibility in the distribution."
   ]
  },
  {
   "cell_type": "markdown",
   "metadata": {},
   "source": [
    "# 2"
   ]
  },
  {
   "cell_type": "code",
   "execution_count": 24,
   "metadata": {},
   "outputs": [
    {
     "name": "stdout",
     "output_type": "stream",
     "text": [
      "Unweighted adjacency matrix\n",
      "[[0 0 0 0 0 0 0 0 1]\n",
      " [1 0 0 0 0 0 0 0 1]\n",
      " [0 0 0 0 0 0 0 0 1]\n",
      " [0 0 0 0 0 0 0 0 1]\n",
      " [0 0 0 0 0 0 0 0 1]\n",
      " [0 0 0 0 0 0 0 0 1]\n",
      " [0 0 0 0 0 0 0 0 1]\n",
      " [0 0 0 0 0 0 0 0 1]\n",
      " [1 1 1 1 1 1 1 1 0]]\n",
      "Weighted adjacency matrix\n",
      "[[0.    0.    0.    0.    0.    0.    0.    0.    0.125]\n",
      " [0.5   0.    0.    0.    0.    0.    0.    0.    0.125]\n",
      " [0.    0.    0.    0.    0.    0.    0.    0.    0.125]\n",
      " [0.    0.    0.    0.    0.    0.    0.    0.    0.125]\n",
      " [0.    0.    0.    0.    0.    0.    0.    0.    0.125]\n",
      " [0.    0.    0.    0.    0.    0.    0.    0.    0.125]\n",
      " [0.    0.    0.    0.    0.    0.    0.    0.    0.125]\n",
      " [0.    0.    0.    0.    0.    0.    0.    0.    0.125]\n",
      " [0.5   1.    1.    1.    1.    1.    1.    1.    0.   ]]\n"
     ]
    }
   ],
   "source": [
    "# Hub topology\n",
    "\n",
    "Atildehub = np.zeros((9,9), dtype=int)\n",
    "Atildehub = np.array([\n",
    "   # 1,2,3,4,5,6,7,8,9\n",
    "    [0,0,0,0,0,0,0,0,1],\n",
    "    [1,0,0,0,0,0,0,0,1],\n",
    "    [0,0,0,0,0,0,0,0,1],\n",
    "    [0,0,0,0,0,0,0,0,1],\n",
    "    [0,0,0,0,0,0,0,0,1],\n",
    "    [0,0,0,0,0,0,0,0,1],\n",
    "    [0,0,0,0,0,0,0,0,1],\n",
    "    [0,0,0,0,0,0,0,0,1],\n",
    "    [1,1,1,1,1,1,1,1,0],\n",
    "])\n",
    "\n",
    "print('Unweighted adjacency matrix')\n",
    "print(Atildehub)\n",
    "\n",
    "# find weighted adjacency matrix\n",
    "Ahub = Atildehub / np.sum(Atildehub, 0)\n",
    "print('Weighted adjacency matrix')\n",
    "print(Ahub)"
   ]
  },
  {
   "cell_type": "code",
   "execution_count": 43,
   "metadata": {},
   "outputs": [
    {
     "name": "stdout",
     "output_type": "stream",
     "text": [
      "b0 =  [[0.11111111]\n",
      " [0.11111111]\n",
      " [0.11111111]\n",
      " [0.11111111]\n",
      " [0.11111111]\n",
      " [0.11111111]\n",
      " [0.11111111]\n",
      " [0.11111111]\n",
      " [0.11111111]]\n",
      "bhub1 =  [[0.01388889]\n",
      " [0.06944444]\n",
      " [0.01388889]\n",
      " [0.01388889]\n",
      " [0.01388889]\n",
      " [0.01388889]\n",
      " [0.01388889]\n",
      " [0.01388889]\n",
      " [0.83333333]]\n",
      "1000 iterations\n",
      "bhub =  [[0.06060606]\n",
      " [0.09090909]\n",
      " [0.06060606]\n",
      " [0.06060606]\n",
      " [0.06060606]\n",
      " [0.06060606]\n",
      " [0.06060606]\n",
      " [0.06060606]\n",
      " [0.48484848]]\n",
      "93 iterations\n",
      "bhubr =  [[0.06052684]\n",
      " [0.09087232]\n",
      " [0.06052684]\n",
      " [0.06052684]\n",
      " [0.06052684]\n",
      " [0.06052684]\n",
      " [0.06052684]\n",
      " [0.06052684]\n",
      " [0.4854398 ]]\n"
     ]
    }
   ],
   "source": [
    "b0 = (1/9)*np.ones((9,1))\n",
    "print('b0 = ', b0)\n",
    "\n",
    "bhub1 = Ahub @ b0\n",
    "print('bhub1 = ', bhub1)\n",
    "\n",
    "bhub = b0.copy()\n",
    "for k in range(1000):\n",
    "    bhub = Ahub @ bhub\n",
    "    \n",
    "print('1000 iterations')\n",
    "print('bhub = ', bhub)\n",
    "\n",
    "bhubr = b0.copy()\n",
    "for k in range(93):\n",
    "    bhubr = Ahub @ bhubr\n",
    "    \n",
    "print('93 iterations')\n",
    "print('bhubr = ',bhubr)\n"
   ]
  },
  {
   "cell_type": "code",
   "execution_count": null,
   "metadata": {},
   "outputs": [],
   "source": []
  }
 ],
 "metadata": {
  "kernelspec": {
   "display_name": "Python 3",
   "language": "python",
   "name": "python3"
  },
  "language_info": {
   "codemirror_mode": {
    "name": "ipython",
    "version": 3
   },
   "file_extension": ".py",
   "mimetype": "text/x-python",
   "name": "python",
   "nbconvert_exporter": "python",
   "pygments_lexer": "ipython3",
   "version": "3.7.4"
  }
 },
 "nbformat": 4,
 "nbformat_minor": 2
}
