{
 "cells": [
  {
   "cell_type": "markdown",
   "metadata": {},
   "source": [
    "# 1"
   ]
  },
  {
   "cell_type": "code",
   "execution_count": 1,
   "metadata": {},
   "outputs": [],
   "source": [
    "import numpy as np\n",
    "from scipy.io import loadmat\n",
    "from scipy.io import savemat\n",
    "import matplotlib.pyplot as plt \n",
    "\n",
    "def kMeans(X, K, maxIters = 20, plot_progress = None):\n",
    "\n",
    "    centroids = X[np.random.choice(len(X), K)]\n",
    "    for i in range(maxIters):\n",
    "        # Cluster Assignment step\n",
    "        C = np.array([np.argmin([(x_i-y_k)@(x_i-y_k) for y_k in centroids]) for x_i in X])\n",
    "        # Update centroids step \n",
    "        centroids = []\n",
    "        for k in range(K):\n",
    "            if (C == k).any():\n",
    "                centroids.append( X[C == k].mean(axis = 0) )\n",
    "            else: # if there are no data points assigned to this certain centroid\n",
    "                centroids.append( X[np.random.choice(len(X))] )\n",
    "        if plot_progress != None: plot_progress(X, C, np.array(centroids))\n",
    "    return np.array(centroids) , C\n",
    "\n",
    "# Define A for activity\n",
    "A = np.array([[3,3,3,-1,-1,-1],[1,1,1,-3,-3,-3],[1,1,1,-3,-3,-3],[3,3,3,-1,-1,-1]])\n",
    "\n",
    "rows = np.array(A.shape)[0]\n",
    "cols = np.array(A.shape)[1]"
   ]
  },
  {
   "cell_type": "code",
   "execution_count": 2,
   "metadata": {},
   "outputs": [
    {
     "name": "stdout",
     "output_type": "stream",
     "text": [
      "A = \n",
      "[[ 3  3  3 -1 -1 -1]\n",
      " [ 1  1  1 -3 -3 -3]\n",
      " [ 1  1  1 -3 -3 -3]\n",
      " [ 3  3  3 -1 -1 -1]]\n",
      "centroid assigned =  [0 0 0 0 0 0]\n",
      "centroids\n",
      "[[ 1.]\n",
      " [-1.]\n",
      " [-1.]\n",
      " [ 1.]]\n"
     ]
    }
   ],
   "source": [
    "# k-means with 1 cluster\n",
    "centroids, C = kMeans(A.transpose(), K = 1)\n",
    "print('A = ')\n",
    "print(A)\n",
    "print('centroid assigned = ',C)\n",
    "print('centroids')\n",
    "print(centroids.transpose())"
   ]
  },
  {
   "cell_type": "code",
   "execution_count": 3,
   "metadata": {},
   "outputs": [
    {
     "name": "stdout",
     "output_type": "stream",
     "text": [
      "Rank-1 Approximation\n",
      "[[ 1.  1.  1.  1.  1.  1.]\n",
      " [-1. -1. -1. -1. -1. -1.]\n",
      " [-1. -1. -1. -1. -1. -1.]\n",
      " [ 1.  1.  1.  1.  1.  1.]]\n"
     ]
    }
   ],
   "source": [
    "# Construct rank-1 approximation using cluster\n",
    "Ahat_1 = centroids.transpose()@np.ones((1,cols),float)\n",
    "\n",
    "print('Rank-1 Approximation')\n",
    "print(Ahat_1)"
   ]
  },
  {
   "cell_type": "markdown",
   "metadata": {},
   "source": [
    "W_T = [1 1 1 1 1 1]"
   ]
  },
  {
   "cell_type": "code",
   "execution_count": 4,
   "metadata": {},
   "outputs": [
    {
     "name": "stdout",
     "output_type": "stream",
     "text": [
      "A = \n",
      "[[ 3  3  3 -1 -1 -1]\n",
      " [ 1  1  1 -3 -3 -3]\n",
      " [ 1  1  1 -3 -3 -3]\n",
      " [ 3  3  3 -1 -1 -1]]\n",
      "centroid assigned =  [1 1 1 0 0 0]\n",
      "centroids\n",
      "[[-1.  3.]\n",
      " [-3.  1.]\n",
      " [-3.  1.]\n",
      " [-1.  3.]]\n"
     ]
    }
   ],
   "source": [
    "# k-means with 2 clusters\n",
    "centroids, C = kMeans(A.transpose(), K = 2)\n",
    "\n",
    "print('A = ')\n",
    "print(A)\n",
    "print('centroid assigned = ',C)\n",
    "print('centroids')\n",
    "print(centroids.transpose())"
   ]
  },
  {
   "cell_type": "code",
   "execution_count": 5,
   "metadata": {},
   "outputs": [
    {
     "name": "stdout",
     "output_type": "stream",
     "text": [
      "Rank-2 Approximation\n",
      "[[ 3.  3.  3. -1. -1. -1.]\n",
      " [ 1.  1.  1. -3. -3. -3.]\n",
      " [ 1.  1.  1. -3. -3. -3.]\n",
      " [ 3.  3.  3. -1. -1. -1.]]\n"
     ]
    }
   ],
   "source": [
    "# Construct rank-2 approximation using clusters\n",
    "\n",
    "Ahat_2 = np.zeros((rows,cols),float)\n",
    "for i in range(cols):\n",
    "    Ahat_2[:,i]=centroids.transpose()[:,C[i]]\n",
    "    \n",
    "print('Rank-2 Approximation')\n",
    "print(Ahat_2)"
   ]
  },
  {
   "cell_type": "markdown",
   "metadata": {},
   "source": [
    "W_T = [[1 1 1 0 0 0][0 0 0 1 1 1]]"
   ]
  },
  {
   "cell_type": "markdown",
   "metadata": {},
   "source": [
    "# 2"
   ]
  },
  {
   "cell_type": "markdown",
   "metadata": {},
   "source": [
    "## 2a\n",
    "A = 4 by 6\n",
    "\n",
    "Therefore U is 4 by 4\n",
    "\n",
    "S is 4 by 6\n",
    "\n",
    "V is 6 by 6"
   ]
  },
  {
   "cell_type": "markdown",
   "metadata": {},
   "source": [
    "## 2b\n",
    "U is 4 by 4\n",
    "\n",
    "S is 4 by 4 \n",
    "\n",
    "V tranpose is 4 by 6 -> V is 6 by 4."
   ]
  },
  {
   "cell_type": "markdown",
   "metadata": {},
   "source": [
    "## 2c"
   ]
  },
  {
   "cell_type": "code",
   "execution_count": 24,
   "metadata": {},
   "outputs": [
    {
     "name": "stdout",
     "output_type": "stream",
     "text": [
      "U = \n",
      "  [[-0.5        -0.5        -0.70415281  0.06456638]\n",
      " [-0.5         0.5        -0.06456638 -0.70415281]\n",
      " [-0.5         0.5         0.06456638  0.70415281]\n",
      " [-0.5        -0.5         0.70415281 -0.06456638]]\n",
      "S = \n",
      "  [9.79795897 4.89897949 0.         0.        ]\n",
      "VT = \n",
      "  [[-0.40824829 -0.40824829 -0.40824829  0.40824829  0.40824829  0.40824829]\n",
      " [-0.40824829 -0.40824829 -0.40824829 -0.40824829 -0.40824829 -0.40824829]\n",
      " [ 0.78860564 -0.57753998 -0.21106566  0.          0.          0.        ]\n",
      " [-0.21158404 -0.5771605   0.78874454  0.         -0.         -0.        ]\n",
      " [ 0.          0.         -0.         -0.57735027  0.78867513 -0.21132487]\n",
      " [ 0.          0.         -0.         -0.57735027 -0.21132487  0.78867513]]\n"
     ]
    }
   ],
   "source": [
    "U,S,VT = np.linalg.svd(A,full_matrices=True)\n",
    "np.set_printoptions(suppress=True)\n",
    "print(\"U = \\n \", U)\n",
    "print(\"S = \\n \", S)\n",
    "print(\"VT = \\n \", VT)"
   ]
  },
  {
   "cell_type": "markdown",
   "metadata": {},
   "source": [
    "## i"
   ]
  },
  {
   "cell_type": "code",
   "execution_count": 20,
   "metadata": {},
   "outputs": [
    {
     "name": "stdout",
     "output_type": "stream",
     "text": [
      "UT_U = \n",
      "  [[ 1. -0.  0. -0.]\n",
      " [-0.  1. -0.  0.]\n",
      " [ 0. -0.  1.  0.]\n",
      " [-0.  0.  0.  1.]]\n",
      "VT_V = \n",
      "  [[ 1.  0. -0.  0. -0. -0.]\n",
      " [ 0.  1. -0. -0.  0.  0.]\n",
      " [-0. -0.  1. -0. -0. -0.]\n",
      " [ 0. -0. -0.  1. -0. -0.]\n",
      " [-0.  0. -0. -0.  1.  0.]\n",
      " [-0.  0. -0. -0.  0.  1.]]\n"
     ]
    }
   ],
   "source": [
    "UT_U = U.T @ U\n",
    "VT_V = VT @ VT.T\n",
    "np.set_printoptions(suppress=True)\n",
    "print(\"UT_U = \\n \", UT_U)\n",
    "print(\"VT_V = \\n \", VT_V)"
   ]
  },
  {
   "cell_type": "markdown",
   "metadata": {},
   "source": [
    "Both are orthonormal, since UT_U and VT_V both Identity Matrices. "
   ]
  },
  {
   "cell_type": "markdown",
   "metadata": {},
   "source": [
    "## ii"
   ]
  },
  {
   "cell_type": "code",
   "execution_count": 22,
   "metadata": {},
   "outputs": [
    {
     "name": "stdout",
     "output_type": "stream",
     "text": [
      "U_UT = \n",
      "  [[ 1. -0. -0. -0.]\n",
      " [-0.  1. -0. -0.]\n",
      " [-0. -0.  1. -0.]\n",
      " [-0. -0. -0.  1.]]\n",
      "V_VT = \n",
      "  [[ 1.  0.  0. -0. -0. -0.]\n",
      " [ 0.  1. -0. -0. -0. -0.]\n",
      " [ 0. -0.  1.  0. -0. -0.]\n",
      " [-0. -0.  0.  1. -0. -0.]\n",
      " [-0. -0. -0. -0.  1. -0.]\n",
      " [-0. -0. -0. -0. -0.  1.]]\n"
     ]
    }
   ],
   "source": [
    "U_UT = U @ U.T\n",
    "V_VT = VT.T @ VT\n",
    "print(\"U_UT = \\n \", U_UT)\n",
    "print(\"V_VT = \\n \", V_VT)"
   ]
  },
  {
   "cell_type": "markdown",
   "metadata": {},
   "source": [
    "By the same reason, they are also orthonormal."
   ]
  },
  {
   "cell_type": "markdown",
   "metadata": {},
   "source": [
    "## iii"
   ]
  },
  {
   "cell_type": "markdown",
   "metadata": {},
   "source": [
    "The left singluar vector, U1.Transpose = [-0.5 -0.5 -0.5 -0.5]\n",
    "\n",
    "The right singular vector, V1.Transpose = [-0.40824829 -0.40824829 -0.40824829  0.40824829  0.40824829  0.40824829]"
   ]
  },
  {
   "cell_type": "markdown",
   "metadata": {},
   "source": [
    "## iv\n",
    "The rank of A is 2"
   ]
  },
  {
   "cell_type": "markdown",
   "metadata": {},
   "source": [
    "## 2d"
   ]
  },
  {
   "cell_type": "code",
   "execution_count": 25,
   "metadata": {},
   "outputs": [
    {
     "name": "stdout",
     "output_type": "stream",
     "text": [
      "U = \n",
      "  [[-0.5        -0.5        -0.70415281  0.06456638]\n",
      " [-0.5         0.5        -0.06456638 -0.70415281]\n",
      " [-0.5         0.5         0.06456638  0.70415281]\n",
      " [-0.5        -0.5         0.70415281 -0.06456638]]\n",
      "S = \n",
      "  [9.79795897 4.89897949 0.         0.        ]\n",
      "VT = \n",
      "  [[-0.40824829 -0.40824829 -0.40824829  0.40824829  0.40824829  0.40824829]\n",
      " [-0.40824829 -0.40824829 -0.40824829 -0.40824829 -0.40824829 -0.40824829]\n",
      " [ 0.78860564 -0.57753998 -0.21106566  0.          0.          0.        ]\n",
      " [-0.21158404 -0.5771605   0.78874454  0.         -0.         -0.        ]]\n"
     ]
    }
   ],
   "source": [
    "U,S,VT = np.linalg.svd(A,full_matrices=False)\n",
    "np.set_printoptions(suppress=True)\n",
    "print(\"U = \\n \", U)\n",
    "print(\"S = \\n \", S)\n",
    "print(\"VT = \\n \", VT)"
   ]
  },
  {
   "cell_type": "code",
   "execution_count": 27,
   "metadata": {},
   "outputs": [
    {
     "name": "stdout",
     "output_type": "stream",
     "text": [
      "UT_U = \n",
      "  [[ 1. -0.  0. -0.]\n",
      " [-0.  1. -0.  0.]\n",
      " [ 0. -0.  1.  0.]\n",
      " [-0.  0.  0.  1.]]\n",
      "VT_V = \n",
      "  [[ 1.  0. -0.  0.]\n",
      " [ 0.  1. -0. -0.]\n",
      " [-0. -0.  1. -0.]\n",
      " [ 0. -0. -0.  1.]]\n"
     ]
    }
   ],
   "source": [
    "UT_U = U.T @ U\n",
    "VT_V = VT @ VT.T\n",
    "np.set_printoptions(suppress=True)\n",
    "print(\"UT_U = \\n \", UT_U)\n",
    "print(\"VT_V = \\n \", VT_V)"
   ]
  },
  {
   "cell_type": "markdown",
   "metadata": {},
   "source": [
    "Since they are both identity matrices, they are both orthonormal."
   ]
  },
  {
   "cell_type": "code",
   "execution_count": 26,
   "metadata": {},
   "outputs": [
    {
     "name": "stdout",
     "output_type": "stream",
     "text": [
      "U_UT = \n",
      "  [[ 1. -0. -0. -0.]\n",
      " [-0.  1. -0. -0.]\n",
      " [-0. -0.  1. -0.]\n",
      " [-0. -0. -0.  1.]]\n",
      "V_VT = \n",
      "  [[ 1.          0.          0.         -0.         -0.         -0.        ]\n",
      " [ 0.          1.         -0.         -0.         -0.         -0.        ]\n",
      " [ 0.         -0.          1.          0.         -0.         -0.        ]\n",
      " [-0.         -0.          0.          0.33333333  0.33333333  0.33333333]\n",
      " [-0.         -0.         -0.          0.33333333  0.33333333  0.33333333]\n",
      " [-0.         -0.         -0.          0.33333333  0.33333333  0.33333333]]\n"
     ]
    }
   ],
   "source": [
    "U_UT = U @ U.T\n",
    "V_VT = VT.T @ VT\n",
    "print(\"U_UT = \\n \", U_UT)\n",
    "print(\"V_VT = \\n \", V_VT)"
   ]
  },
  {
   "cell_type": "markdown",
   "metadata": {},
   "source": [
    "rows in U are still orthonormal , since the matrix product an Identity Matrix\n",
    "\n",
    "Rows in V is not orthonormal, since V@VT is not an identity matrix."
   ]
  },
  {
   "cell_type": "markdown",
   "metadata": {},
   "source": [
    "## 2e\n",
    "Their singualr values are identical, however, VT of the full version has 2 more vectors that are not present in the economy version. Nonetheless, since the respective singluar values for these vectors are 0, they are not relevant."
   ]
  },
  {
   "cell_type": "markdown",
   "metadata": {},
   "source": [
    "## 2f\n",
    "orthonormal basis spanned by columns: {u1, u2}, where\n",
    "\n",
    "u1^T = [-0.5 -0.5 -0.5 -0.5]\n",
    "\n",
    "u2^T = [-0.5 0.5 0.5 -0.5]"
   ]
  },
  {
   "cell_type": "markdown",
   "metadata": {},
   "source": [
    "orthonormal basis spanned by rows: {v1, v2}, where\n",
    "\n",
    "v1^T = [-0.40824829 -0.40824829 -0.40824829  0.40824829  0.40824829  0.40824829]\n",
    "\n",
    "v2^T = [-0.40824829 -0.40824829 -0.40824829 -0.40824829 -0.40824829 -0.40824829]\n",
    " "
   ]
  },
  {
   "cell_type": "markdown",
   "metadata": {},
   "source": [
    "## 2h"
   ]
  },
  {
   "cell_type": "code",
   "execution_count": 30,
   "metadata": {},
   "outputs": [
    {
     "name": "stdout",
     "output_type": "stream",
     "text": [
      "U = \n",
      "  [[-0.5        -0.5        -0.70415281  0.06456638]\n",
      " [-0.5         0.5        -0.06456638 -0.70415281]\n",
      " [-0.5         0.5         0.06456638  0.70415281]\n",
      " [-0.5        -0.5         0.70415281 -0.06456638]]\n",
      "S = \n",
      "  [9.79795897 4.89897949 0.         0.        ]\n",
      "VT = \n",
      "  [[-0.40824829 -0.40824829 -0.40824829  0.40824829  0.40824829  0.40824829]\n",
      " [-0.40824829 -0.40824829 -0.40824829 -0.40824829 -0.40824829 -0.40824829]\n",
      " [ 0.78860564 -0.57753998 -0.21106566  0.          0.          0.        ]\n",
      " [-0.21158404 -0.5771605   0.78874454  0.         -0.         -0.        ]\n",
      " [ 0.          0.         -0.         -0.57735027  0.78867513 -0.21132487]\n",
      " [ 0.          0.         -0.         -0.57735027 -0.21132487  0.78867513]]\n"
     ]
    }
   ],
   "source": [
    "# recalculating SVD\n",
    "U,S,VT = np.linalg.svd(A,full_matrices=True)\n",
    "np.set_printoptions(suppress=True)\n",
    "print(\"U = \\n \", U)\n",
    "print(\"S = \\n \", S)\n",
    "print(\"VT = \\n \", VT)\n"
   ]
  },
  {
   "cell_type": "code",
   "execution_count": 57,
   "metadata": {},
   "outputs": [
    {
     "name": "stdout",
     "output_type": "stream",
     "text": [
      "[[ 2.  2.  2. -2. -2. -2.]\n",
      " [ 2.  2.  2. -2. -2. -2.]\n",
      " [ 2.  2.  2. -2. -2. -2.]\n",
      " [ 2.  2.  2. -2. -2. -2.]]\n"
     ]
    }
   ],
   "source": [
    "# rank 1 approximation \n",
    "A_head = S[0] * U[:, 0:1]@VT[0:1, :]\n",
    "print(A_head)"
   ]
  },
  {
   "cell_type": "code",
   "execution_count": 60,
   "metadata": {},
   "outputs": [
    {
     "name": "stdout",
     "output_type": "stream",
     "text": [
      "[[ 3.  3.  3. -1. -1. -1.]\n",
      " [ 1.  1.  1. -3. -3. -3.]\n",
      " [ 1.  1.  1. -3. -3. -3.]\n",
      " [ 3.  3.  3. -1. -1. -1.]]\n"
     ]
    }
   ],
   "source": [
    "# rank 2 approximation \n",
    "A_head = S[0:2] * U[:, 0:2]@VT[0:2, :]\n",
    "print(A_head)"
   ]
  },
  {
   "cell_type": "markdown",
   "metadata": {},
   "source": [
    "## 2i\n",
    "min dimension is 2"
   ]
  },
  {
   "cell_type": "code",
   "execution_count": 61,
   "metadata": {},
   "outputs": [
    {
     "name": "stdout",
     "output_type": "stream",
     "text": [
      "U_head = \n",
      " [[-0.5 -0.5]\n",
      " [-0.5  0.5]\n",
      " [-0.5  0.5]\n",
      " [-0.5 -0.5]]\n",
      "S_head = \n",
      " [9.79795897 4.89897949]\n",
      "VT_head = \n",
      " [[-0.40824829 -0.40824829 -0.40824829  0.40824829  0.40824829  0.40824829]\n",
      " [-0.40824829 -0.40824829 -0.40824829 -0.40824829 -0.40824829 -0.40824829]]\n"
     ]
    }
   ],
   "source": [
    "U_head = U[:, 0:2]\n",
    "S_head = S[0:2]\n",
    "VT_head = VT[0:2, :]\n",
    "print(\"U_head = \\n\", U_head)\n",
    "print(\"S_head = \\n\", S_head)\n",
    "print(\"VT_head = \\n\", VT_head)"
   ]
  },
  {
   "cell_type": "code",
   "execution_count": null,
   "metadata": {},
   "outputs": [],
   "source": []
  }
 ],
 "metadata": {
  "kernelspec": {
   "display_name": "Python 3",
   "language": "python",
   "name": "python3"
  },
  "language_info": {
   "codemirror_mode": {
    "name": "ipython",
    "version": 3
   },
   "file_extension": ".py",
   "mimetype": "text/x-python",
   "name": "python",
   "nbconvert_exporter": "python",
   "pygments_lexer": "ipython3",
   "version": "3.7.4"
  }
 },
 "nbformat": 4,
 "nbformat_minor": 2
}
