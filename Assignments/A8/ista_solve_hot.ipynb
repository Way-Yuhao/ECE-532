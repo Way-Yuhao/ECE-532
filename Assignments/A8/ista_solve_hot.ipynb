{
 "cells": [
  {
   "cell_type": "markdown",
   "metadata": {},
   "source": [
    "## Question 2"
   ]
  },
  {
   "cell_type": "markdown",
   "metadata": {},
   "source": [
    "## a)"
   ]
  },
  {
   "cell_type": "code",
   "execution_count": 101,
   "metadata": {},
   "outputs": [],
   "source": [
    "def ista_solve_hot( A, d, la_array ):\n",
    "    # ista_solve_hot: Iterative soft-thresholding for multiple values of\n",
    "    # lambda with hot start for each case - the converged value for the previous\n",
    "    # value of lambda is used as an initial condition for the current lambda.\n",
    "    # this function solves the minimization problem\n",
    "    # Minimize |Ax-d|_2^2 + lambda*|x|_1 (Lasso regression)\n",
    "    # using iterative soft-thresholding.\n",
    "    max_iter = 10**4\n",
    "    tol = 10**(-3)\n",
    "    tau = 1/np.linalg.norm(A,2)**2\n",
    "    n = A.shape[1]\n",
    "    w = np.zeros((n,1))\n",
    "    num_lam = len(la_array)\n",
    "    X = np.zeros((n, num_lam))\n",
    "    for i, each_lambda in enumerate(la_array):\n",
    "        for j in range(max_iter):\n",
    "            z = w - tau*(A.T@(A@w-d))\n",
    "            w_old = w\n",
    "            w = np.sign(z) * np.clip(np.abs(z)-tau*each_lambda/2, 0, np.inf)\n",
    "            X[:, [i]] = w\n",
    "            if np.linalg.norm(w - w_old) < tol:\n",
    "                break\n",
    "    return X"
   ]
  },
  {
   "cell_type": "code",
   "execution_count": 102,
   "metadata": {},
   "outputs": [
    {
     "name": "stdout",
     "output_type": "stream",
     "text": [
      "__header__\n",
      "__version__\n",
      "__globals__\n",
      "X\n",
      "y\n"
     ]
    }
   ],
   "source": [
    "import numpy as np\n",
    "from scipy.io import loadmat\n",
    "in_data = loadmat('BreastCancer.mat')\n",
    "for key in in_data.keys():\n",
    "    print(key)\n",
    "X = in_data['X']\n",
    "y = in_data['y']"
   ]
  },
  {
   "cell_type": "code",
   "execution_count": 103,
   "metadata": {},
   "outputs": [
    {
     "data": {
      "text/plain": [
       "[<matplotlib.lines.Line2D at 0x11d3c3cd0>]"
      ]
     },
     "execution_count": 103,
     "metadata": {},
     "output_type": "execute_result"
    },
    {
     "data": {
      "image/png": "[encoded data removed]",
      "text/plain": [
       "<Figure size 432x288 with 1 Axes>"
      ]
     },
     "metadata": {
      "needs_background": "light"
     },
     "output_type": "display_data"
    }
   ],
   "source": [
    "# using only the first 100 patients\n",
    "la_num = 20\n",
    "X_a = X[0:100, :]\n",
    "y_a = y[0:100]\n",
    "# la_array = np.array([10**-6, 10**-5, 10**-4, 10**-3, 10**-2, 10**-1, 1, 10, 20]) # spaced logarithmically\n",
    "la_array = np.logspace(-6, 2, num=la_num)\n",
    "W = ista_solve_hot(X_a, y_a, la_array)\n",
    "\n",
    "w_norm = np.zeros(len(la_array))\n",
    "res = np.zeros(len(la_array))\n",
    "for i in range(len(la_array)):\n",
    "    w = W[:, [i]]\n",
    "    w_norm[i] = np.linalg.norm(w, ord=1) # 1 norm\n",
    "    res[i] = np.linalg.norm(X_a @ w - y_a, ord=2)\n",
    "    \n",
    "plt.plot(w_norm, res)"
   ]
  },
  {
   "cell_type": "markdown",
   "metadata": {},
   "source": [
    "As lamda increases, the l1 norm of w decreases, the residue error increases.\n",
    "There is a point on the spectrum of lamda where increasing lamda yileds significant increase in residue error while  little change in w1 norm of w"
   ]
  },
  {
   "cell_type": "markdown",
   "metadata": {},
   "source": [
    "## b)"
   ]
  },
  {
   "cell_type": "code",
   "execution_count": 104,
   "metadata": {},
   "outputs": [],
   "source": [
    "def find_err_rate(X, y, w):\n",
    "    err = 0\n",
    "    y_head = X @ w\n",
    "    for i in range(len(y)):\n",
    "        if (y[i] != np.sign(y_head[i])):\n",
    "            err+=1\n",
    "    err_rate = err / len(y)\n",
    "    return err_rate\n",
    "\n",
    "def find_sparsity(w):\n",
    "    s = 0;\n",
    "    for wi in w:\n",
    "        if (np.absolute(wi) > 10**-6):\n",
    "            s+=1\n",
    "    return s"
   ]
  },
  {
   "cell_type": "code",
   "execution_count": 105,
   "metadata": {},
   "outputs": [
    {
     "data": {
      "text/plain": [
       "[<matplotlib.lines.Line2D at 0x11d479550>]"
      ]
     },
     "execution_count": 105,
     "metadata": {},
     "output_type": "execute_result"
    },
    {
     "data": {
      "image/png": "[encoded data removed]",
      "text/plain": [
       "<Figure size 432x288 with 1 Axes>"
      ]
     },
     "metadata": {
      "needs_background": "light"
     },
     "output_type": "display_data"
    }
   ],
   "source": [
    "err_rates = np.zeros(la_num)\n",
    "sparsities = np.zeros(la_num)\n",
    "\n",
    "for i in range(la_num):\n",
    "    w = W[:, [i]]\n",
    "    err_rates[i] = find_err_rate(X_a, y_a, w)\n",
    "    sparsities[i] = find_sparsity(w);\n",
    "\n",
    "plt.plot(sparsities, err_rates)"
   ]
  },
  {
   "cell_type": "markdown",
   "metadata": {},
   "source": [
    "Between 0 to ~100 on the sparsity scale, increasing the sparsity of w reasults in significant reduction in error rates. However, after some point around 100, increasing sparsity of w no longer reuslts in apparant changes in error rate."
   ]
  },
  {
   "cell_type": "markdown",
   "metadata": {},
   "source": [
    "## c)\n",
    "## L1 norm vs residule error"
   ]
  },
  {
   "cell_type": "code",
   "execution_count": 107,
   "metadata": {},
   "outputs": [
    {
     "data": {
      "image/png": "[encoded data removed]",
      "text/plain": [
       "<Figure size 432x288 with 1 Axes>"
      ]
     },
     "metadata": {
      "needs_background": "light"
     },
     "output_type": "display_data"
    }
   ],
   "source": [
    "# using only the first 100 patients\n",
    "X_b = X[101:, :]\n",
    "y_b = y[101:]\n",
    "# W2 = ista_solve_hot(X_b, y_b, la_array)\n",
    "w_norm2 = np.zeros(len(la_array))\n",
    "res2 = np.zeros(len(la_array))\n",
    "for i in range(len(la_array)):\n",
    "    w = W[:, [i]]\n",
    "    w_norm2[i] = np.linalg.norm(w, ord=1) # 1 norm\n",
    "    res2[i] = np.linalg.norm(X_b @ w - y_b, ord=2)\n",
    "plt.plot(w_norm2, res2)\n",
    "plt.show()"
   ]
  },
  {
   "cell_type": "markdown",
   "metadata": {},
   "source": [
    "The graph now has a global minimum, an optimal point. When lamda decreases, we go to the right side of the graph, where the regularization strength is smaller and the w there is overfitting, resulting in greater residule error in the testing data. "
   ]
  },
  {
   "cell_type": "markdown",
   "metadata": {},
   "source": [
    "## sparsity vs. error rates "
   ]
  },
  {
   "cell_type": "code",
   "execution_count": 108,
   "metadata": {},
   "outputs": [
    {
     "data": {
      "text/plain": [
       "[<matplotlib.lines.Line2D at 0x11cd10f50>]"
      ]
     },
     "execution_count": 108,
     "metadata": {},
     "output_type": "execute_result"
    },
    {
     "data": {
      "image/png": "[encoded data removed]",
      "text/plain": [
       "<Figure size 432x288 with 1 Axes>"
      ]
     },
     "metadata": {
      "needs_background": "light"
     },
     "output_type": "display_data"
    }
   ],
   "source": [
    "err_rates2 = np.zeros(la_num)\n",
    "sparsities2 = np.zeros(la_num)\n",
    "\n",
    "for i in range(la_num):\n",
    "    w = W[:, [i]]\n",
    "    err_rates2[i] = find_err_rate(X_b, y_b, w)\n",
    "    sparsities2[i] = find_sparsity(w);\n",
    "\n",
    "plt.plot(sparsities2, err_rates2)"
   ]
  },
  {
   "cell_type": "markdown",
   "metadata": {},
   "source": [
    "The graph now has a global minimum, an optimal point. When lamda decreases, we go to the right side of the graph, where the regularization strength is smaller and the w has more non-zero entries, some of which captures unreal trend resulting in over fitting."
   ]
  },
  {
   "cell_type": "code",
   "execution_count": null,
   "metadata": {},
   "outputs": [],
   "source": []
  }
 ],
 "metadata": {
  "kernelspec": {
   "display_name": "Python 3",
   "language": "python",
   "name": "python3"
  },
  "language_info": {
   "codemirror_mode": {
    "name": "ipython",
    "version": 3
   },
   "file_extension": ".py",
   "mimetype": "text/x-python",
   "name": "python",
   "nbconvert_exporter": "python",
   "pygments_lexer": "ipython3",
   "version": "3.7.4"
  }
 },
 "nbformat": 4,
 "nbformat_minor": 2
}
