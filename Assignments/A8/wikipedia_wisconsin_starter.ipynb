{
 "cells": [
  {
   "cell_type": "code",
   "execution_count": 1,
   "metadata": {},
   "outputs": [],
   "source": [
    "import numpy as np\n",
    "from scipy.sparse import csc_matrix\n",
    "from scipy.sparse.linalg import eigs\n",
    "\n",
    "edges_file = open('wisconsin_edges.csv', \"r\")\n",
    "nodes_file = open('wisconsin_nodes.csv', \"r\")\n",
    "\n",
    "# create a dictionary where nodes_dict[i] = name of wikipedia page\n",
    "nodes_dict = {}\n",
    "for line in nodes_file:\n",
    "    nodes_dict[int(line.split(',',1)[0].strip())] = line.split(',',1)[1].strip()\n",
    "\n",
    "node_count = len(nodes_dict)\n",
    "\n",
    "# create adjacency matrix\n",
    "A = np.zeros((node_count, node_count))\n",
    "for line in edges_file:\n",
    "    from_node = int(line.split(',')[0].strip())\n",
    "    to_node = int(line.split(',')[1].strip())\n",
    "    A[to_node, from_node] = 1.0\n",
    "\n",
    "## Add code below to (1) prevent traps and (2) find the most important pages     \n",
    "# Hint -- instead of computing the entire eigen-decomposition of a matrix X using\n",
    "# s, E = np.linalg.eig(A)\n",
    "# you can compute just the first eigenvector with:\n",
    "# s, E = eigs(csc_matrix(A), k = 1)"
   ]
  },
  {
   "cell_type": "markdown",
   "metadata": {},
   "source": [
    "## a)"
   ]
  },
  {
   "cell_type": "code",
   "execution_count": 13,
   "metadata": {},
   "outputs": [],
   "source": [
    "# adding 0.001 to each entry of A\n",
    "for i in range(len(A)):\n",
    "    for j in range(len(A[0])):\n",
    "                   A[i][j] += 0.001\n",
    "# normalizing A\n",
    "A = A / A.sum(0)\n",
    "\n",
    "# eigen decompostion \n",
    "w, v = np.linalg.eig(A)"
   ]
  },
  {
   "cell_type": "code",
   "execution_count": 25,
   "metadata": {},
   "outputs": [
    {
     "name": "stdout",
     "output_type": "stream",
     "text": [
      "[2901 2186 2190 ... 1345 2312 5089]\n"
     ]
    }
   ],
   "source": [
    "v1 = v[:, np.argmax(w)] # first e-vector\n",
    "v1 = np.absolute(v1)\n",
    "v1_indx = np.argsort(v1)\n",
    "print(v1_indx)"
   ]
  },
  {
   "cell_type": "markdown",
   "metadata": {},
   "source": [
    "## b)"
   ]
  },
  {
   "cell_type": "code",
   "execution_count": 33,
   "metadata": {},
   "outputs": [
    {
     "name": "stdout",
     "output_type": "stream",
     "text": [
      "The page ranked 1st is titled : \"Wisconsin\"\n"
     ]
    }
   ],
   "source": [
    "print(\"The page ranked 1st is titled :\", nodes_dict[v1_indx[-1]])"
   ]
  },
  {
   "cell_type": "markdown",
   "metadata": {},
   "source": [
    "## c)"
   ]
  },
  {
   "cell_type": "code",
   "execution_count": 31,
   "metadata": {},
   "outputs": [
    {
     "name": "stdout",
     "output_type": "stream",
     "text": [
      "The page ranked 3rd is titled : \"Madison, Wisconsin\"\n"
     ]
    }
   ],
   "source": [
    "print(\"The page ranked 3rd is titled :\", nodes_dict[v1_indx[-3]])"
   ]
  }
 ],
 "metadata": {
  "kernelspec": {
   "display_name": "Python 3",
   "language": "python",
   "name": "python3"
  },
  "language_info": {
   "codemirror_mode": {
    "name": "ipython",
    "version": 3
   },
   "file_extension": ".py",
   "mimetype": "text/x-python",
   "name": "python",
   "nbconvert_exporter": "python",
   "pygments_lexer": "ipython3",
   "version": "3.7.4"
  }
 },
 "nbformat": 4,
 "nbformat_minor": 2
}
