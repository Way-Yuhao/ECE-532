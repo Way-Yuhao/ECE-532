{
 "cells": [
  {
   "cell_type": "markdown",
   "metadata": {},
   "source": [
    "# 1a"
   ]
  },
  {
   "cell_type": "code",
   "execution_count": 21,
   "metadata": {},
   "outputs": [
    {
     "name": "stdout",
     "output_type": "stream",
     "text": [
      "take gamma as 0.1\n",
      "[[ 7.77817459]\n",
      " [-6.36396103]]\n",
      "length of w is  10.04987562112089\n"
     ]
    }
   ],
   "source": [
    "import numpy as np\n",
    "print(\"take gamma as 0.1\")\n",
    "ga = 0.1\n",
    "w = 1 / (2**.5) * np.array([[1 + 1 / ga], [1 - 1 / ga]])\n",
    "print(w)\n",
    "print(\"length of w is \", np.linalg.norm(w, 2))\n"
   ]
  },
  {
   "cell_type": "code",
   "execution_count": 19,
   "metadata": {},
   "outputs": [
    {
     "name": "stdout",
     "output_type": "stream",
     "text": [
      "take gamma as 10^-8\n",
      "[[ 70710678.82576153]\n",
      " [-70710677.41154796]]\n",
      "length of w is  100000000.0\n"
     ]
    }
   ],
   "source": [
    "print(\"take gamma as 10^-8\")\n",
    "ga = 10**-8\n",
    "w = (1 / (2**.5)) * np.array([[1 + 1 / ga], [1 - 1 / ga]])\n",
    "print(w)\n",
    "print(\"length of w is \", np.linalg.norm(w, 2))"
   ]
  },
  {
   "cell_type": "markdown",
   "metadata": {},
   "source": [
    "## b"
   ]
  },
  {
   "cell_type": "code",
   "execution_count": null,
   "metadata": {},
   "outputs": [],
   "source": []
  }
 ],
 "metadata": {
  "kernelspec": {
   "display_name": "Python 3",
   "language": "python",
   "name": "python3"
  },
  "language_info": {
   "codemirror_mode": {
    "name": "ipython",
    "version": 3
   },
   "file_extension": ".py",
   "mimetype": "text/x-python",
   "name": "python",
   "nbconvert_exporter": "python",
   "pygments_lexer": "ipython3",
   "version": "3.7.4"
  }
 },
 "nbformat": 4,
 "nbformat_minor": 2
}
