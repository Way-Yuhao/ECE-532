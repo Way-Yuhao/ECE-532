{
 "cells": [
  {
   "cell_type": "code",
   "execution_count": 2,
   "metadata": {},
   "outputs": [
    {
     "name": "stdout",
     "output_type": "stream",
     "text": [
      "['__header__', '__version__', '__globals__', 'y', 'X']\n"
     ]
    }
   ],
   "source": [
    "import numpy as np\n",
    "from scipy.io import loadmat\n",
    "from sklearn.datasets import make_regression\n",
    "from sklearn.linear_model import LinearRegression\n",
    "\n",
    "in_data = loadmat('face_emotion_data.mat')\n",
    "print([key for key in in_data])\n",
    "\n",
    "X = in_data['X']\n",
    "y = in_data['y']\n"
   ]
  },
  {
   "cell_type": "markdown",
   "metadata": {},
   "source": [
    "## a\n",
    "Use the training data X and y and a least squares problem to train your classi\f",
    "er\n",
    "weights."
   ]
  },
  {
   "cell_type": "code",
   "execution_count": 3,
   "metadata": {},
   "outputs": [
    {
     "name": "stdout",
     "output_type": "stream",
     "text": [
      "w = \n",
      " [[ 0.94366942]\n",
      " [ 0.21373778]\n",
      " [ 0.26641775]\n",
      " [-0.39221373]\n",
      " [-0.00538552]\n",
      " [-0.01764687]\n",
      " [-0.16632809]\n",
      " [-0.0822838 ]\n",
      " [-0.16644364]]\n"
     ]
    }
   ],
   "source": [
    "w = np.linalg.lstsq(X, y, rcond=None)[0]\n",
    "print(\"w = \\n\", w)"
   ]
  },
  {
   "cell_type": "markdown",
   "metadata": {},
   "source": [
    "## b\n",
    "Suppose there is a new face with feature vectors xi = [ x1i x2i ... x9i]^T\n",
    "Compute for label yi = xi^T @ w. If yi > 0, then it will be classified as a happy face; it yi < 0, then it will be classfied as an angry face."
   ]
  },
  {
   "cell_type": "markdown",
   "metadata": {},
   "source": [
    "## c\n",
    "Feature realted to the first column of X seems to be most important, since its corresponding weight, w1, has the largest absolute value among all weights, meaning that the feautre will have the largest effect on the value of its predicted label."
   ]
  },
  {
   "cell_type": "markdown",
   "metadata": {},
   "source": [
    "## d\n",
    "To design a classifier based on three of the nine features, choosing column 1, 4, and 3 can best represent the original matrix, since their respective weights have the highest 3 absolute values."
   ]
  },
  {
   "cell_type": "markdown",
   "metadata": {},
   "source": [
    "## e"
   ]
  },
  {
   "cell_type": "code",
   "execution_count": 4,
   "metadata": {},
   "outputs": [
    {
     "name": "stdout",
     "output_type": "stream",
     "text": [
      "error rate using 9 features:  0.0234375\n",
      "error rate using 3 features:  0.0625\n"
     ]
    }
   ],
   "source": [
    "# assessing performance using all 9 features.\n",
    "y_head = X @ w\n",
    "counter = 128;\n",
    "for i in range(0, 128):\n",
    "    if (y[i] > 0 and y_head[i] > 0) or (y[i] <= 0 and y_head[i] <= 0):\n",
    "        counter-=1\n",
    "print(\"error rate using 9 features: \", counter/128)\n",
    "\n",
    "# assessing performance using only 3 features\n",
    "X2 = np.hstack([X[:, 0:1], X[:, 2:3], X[:, 3:4]])\n",
    "w2 = np.linalg.lstsq(X2, y, rcond=None)[0]\n",
    "y2_head = X2 @ w2\n",
    "counter = 128\n",
    "for i in range(0, 128):\n",
    "    if (y[i] > 0 and y2_head[i] > 0) or (y[i] <= 0 and y2_head[i] <= 0):\n",
    "        counter-=1\n",
    "print(\"error rate using 3 features: \", counter/128)"
   ]
  },
  {
   "cell_type": "code",
   "execution_count": 8,
   "metadata": {},
   "outputs": [
    {
     "name": "stdout",
     "output_type": "stream",
     "text": [
      "[0.1875 0.1875 0.125  0.125  0.1875 0.125  0.25   0.1875]\n",
      "error rate =  0.171875\n"
     ]
    }
   ],
   "source": [
    "SETS = 8\n",
    "SAMPLE_SIZE = 16\n",
    "# [t*16 :(t+1)*16 - 1]\n",
    "miss_rate = np.array(np.ones(SETS))\n",
    "for t in range(0, SETS):\n",
    "    X3 = np.delete(X, slice(t*16, (t+1)*16), 0)\n",
    "    y3 = np.delete(y, slice(t*16, (t+1)*16), 0)\n",
    "    w3 = np.linalg.lstsq(X3, y3, rcond=None)[0]\n",
    "    y3_head = X3 @ w3\n",
    "    counter = 0\n",
    "    for i in range(0, 127-SAMPLE_SIZE):\n",
    "        if (y3[i] > 0 and y3_head[i] <= 0) or (y3[i] <= 0 and y3_head[i] > 0):\n",
    "            counter+=1\n",
    "    miss_rate[t] = counter / SAMPLE_SIZE\n",
    "print(miss_rate)\n",
    "print(\"error rate = \", np.average(miss_rate))"
   ]
  },
  {
   "cell_type": "code",
   "execution_count": null,
   "metadata": {},
   "outputs": [],
   "source": []
  },
  {
   "cell_type": "code",
   "execution_count": null,
   "metadata": {},
   "outputs": [],
   "source": []
  }
 ],
 "metadata": {
  "kernelspec": {
   "display_name": "Python 3",
   "language": "python",
   "name": "python3"
  },
  "language_info": {
   "codemirror_mode": {
    "name": "ipython",
    "version": 3
   },
   "file_extension": ".py",
   "mimetype": "text/x-python",
   "name": "python",
   "nbconvert_exporter": "python",
   "pygments_lexer": "ipython3",
   "version": "3.7.4"
  }
 },
 "nbformat": 4,
 "nbformat_minor": 2
}
